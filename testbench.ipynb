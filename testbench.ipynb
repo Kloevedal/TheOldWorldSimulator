{
 "cells": [
  {
   "cell_type": "code",
   "execution_count": 1,
   "id": "91e2b1ea",
   "metadata": {},
   "outputs": [
    {
     "ename": "ImportError",
     "evalue": "cannot import name 'Character' from 'character_stats' (consider renaming '/Users/normanpedersen/Local Code/Pet Projects /TheOldWorldSimulator/character_stats.py' if it has the same name as a library you intended to import)",
     "output_type": "error",
     "traceback": [
      "\u001b[31m---------------------------------------------------------------------------\u001b[39m",
      "\u001b[31mImportError\u001b[39m                               Traceback (most recent call last)",
      "\u001b[36mCell\u001b[39m\u001b[36m \u001b[39m\u001b[32mIn[1]\u001b[39m\u001b[32m, line 1\u001b[39m\n\u001b[32m----> \u001b[39m\u001b[32m1\u001b[39m \u001b[38;5;28;01mfrom\u001b[39;00m\u001b[38;5;250m \u001b[39m\u001b[34;01mcombat_simulations\u001b[39;00m\u001b[38;5;250m \u001b[39m\u001b[38;5;28;01mimport\u001b[39;00m *\n",
      "\u001b[36mFile \u001b[39m\u001b[32m~/Local Code/Pet Projects /TheOldWorldSimulator/combat_simulations.py:4\u001b[39m\n\u001b[32m      1\u001b[39m \u001b[38;5;28;01mimport\u001b[39;00m\u001b[38;5;250m \u001b[39m\u001b[34;01mnumpy\u001b[39;00m\u001b[38;5;250m \u001b[39m\u001b[38;5;28;01mas\u001b[39;00m\u001b[38;5;250m \u001b[39m\u001b[34;01mnp\u001b[39;00m\n\u001b[32m      3\u001b[39m \u001b[38;5;28;01mfrom\u001b[39;00m\u001b[38;5;250m \u001b[39m\u001b[34;01marmor\u001b[39;00m\u001b[38;5;250m \u001b[39m\u001b[38;5;28;01mimport\u001b[39;00m *\n\u001b[32m----> \u001b[39m\u001b[32m4\u001b[39m \u001b[38;5;28;01mfrom\u001b[39;00m\u001b[38;5;250m \u001b[39m\u001b[34;01mcharacter_stats\u001b[39;00m\u001b[38;5;250m \u001b[39m\u001b[38;5;28;01mimport\u001b[39;00m *\n\u001b[32m      5\u001b[39m \u001b[38;5;28;01mfrom\u001b[39;00m\u001b[38;5;250m \u001b[39m\u001b[34;01melven_honors\u001b[39;00m\u001b[38;5;250m \u001b[39m\u001b[38;5;28;01mimport\u001b[39;00m *\n\u001b[32m      6\u001b[39m \u001b[38;5;28;01mfrom\u001b[39;00m\u001b[38;5;250m \u001b[39m\u001b[34;01mgame_data\u001b[39;00m\u001b[38;5;250m \u001b[39m\u001b[38;5;28;01mimport\u001b[39;00m *\n",
      "\u001b[36mFile \u001b[39m\u001b[32m~/Local Code/Pet Projects /TheOldWorldSimulator/character_stats.py:5\u001b[39m\n\u001b[32m      3\u001b[39m \u001b[38;5;28;01mfrom\u001b[39;00m\u001b[38;5;250m \u001b[39m\u001b[34;01marmor\u001b[39;00m\u001b[38;5;250m \u001b[39m\u001b[38;5;28;01mimport\u001b[39;00m *\n\u001b[32m      4\u001b[39m \u001b[38;5;28;01mfrom\u001b[39;00m\u001b[38;5;250m \u001b[39m\u001b[34;01melven_honors\u001b[39;00m\u001b[38;5;250m \u001b[39m\u001b[38;5;28;01mimport\u001b[39;00m *\n\u001b[32m----> \u001b[39m\u001b[32m5\u001b[39m \u001b[38;5;28;01mfrom\u001b[39;00m\u001b[38;5;250m \u001b[39m\u001b[34;01mgame_data\u001b[39;00m\u001b[38;5;250m \u001b[39m\u001b[38;5;28;01mimport\u001b[39;00m *\n\u001b[32m      6\u001b[39m \u001b[38;5;28;01mfrom\u001b[39;00m\u001b[38;5;250m \u001b[39m\u001b[34;01mmagic_items\u001b[39;00m\u001b[38;5;250m \u001b[39m\u001b[38;5;28;01mimport\u001b[39;00m *\n\u001b[32m      7\u001b[39m \u001b[38;5;28;01mfrom\u001b[39;00m\u001b[38;5;250m \u001b[39m\u001b[34;01mweapons\u001b[39;00m\u001b[38;5;250m \u001b[39m\u001b[38;5;28;01mimport\u001b[39;00m *\n",
      "\u001b[36mFile \u001b[39m\u001b[32m~/Local Code/Pet Projects /TheOldWorldSimulator/game_data.py:4\u001b[39m\n\u001b[32m      1\u001b[39m \u001b[38;5;66;03m# Game Data \u001b[39;00m\n\u001b[32m      3\u001b[39m \u001b[38;5;28;01mfrom\u001b[39;00m\u001b[38;5;250m \u001b[39m\u001b[34;01marmor\u001b[39;00m\u001b[38;5;250m \u001b[39m\u001b[38;5;28;01mimport\u001b[39;00m *\n\u001b[32m----> \u001b[39m\u001b[32m4\u001b[39m \u001b[38;5;28;01mfrom\u001b[39;00m\u001b[38;5;250m \u001b[39m\u001b[34;01mcharacter_stats\u001b[39;00m\u001b[38;5;250m \u001b[39m\u001b[38;5;28;01mimport\u001b[39;00m Character\n\u001b[32m      5\u001b[39m \u001b[38;5;28;01mfrom\u001b[39;00m\u001b[38;5;250m \u001b[39m\u001b[34;01melven_honors\u001b[39;00m\u001b[38;5;250m \u001b[39m\u001b[38;5;28;01mimport\u001b[39;00m *\n\u001b[32m      6\u001b[39m \u001b[38;5;28;01mfrom\u001b[39;00m\u001b[38;5;250m \u001b[39m\u001b[34;01mgame_data\u001b[39;00m\u001b[38;5;250m \u001b[39m\u001b[38;5;28;01mimport\u001b[39;00m *\n",
      "\u001b[31mImportError\u001b[39m: cannot import name 'Character' from 'character_stats' (consider renaming '/Users/normanpedersen/Local Code/Pet Projects /TheOldWorldSimulator/character_stats.py' if it has the same name as a library you intended to import)"
     ]
    }
   ],
   "source": [
    "from combat_simulations import *"
   ]
  },
  {
   "cell_type": "code",
   "execution_count": null,
   "id": "8279f8d1",
   "metadata": {},
   "outputs": [
    {
     "name": "stdout",
     "output_type": "stream",
     "text": [
      "Altir's Great Weapon grants +2 Strength\n",
      "Altir's Great Weapon has -2 Armor Piercing\n",
      "Altir strikes last with Great Weapon!\n",
      "Grimgor's Great Weapon grants +2 Strength\n",
      "Grimgor's Great Weapon has -2 Armor Piercing\n",
      "Grimgor strikes last with Great Weapon!\n",
      "\n",
      "The combat begins!\n",
      "Round 1 of combat:\n",
      "Altir is an Elf, Initiative increased to 2\n",
      "\n",
      "Altir attacks with 2 attacks!\n",
      "Hit roll: 6 vs target 4 - Hit!\n",
      "Hit roll: 3 vs target 4 - Miss!\n",
      "Total hits: 1\n",
      "Wound roll: 3 vs target 2 - Wounded!\n",
      "Total wounds: 1\n",
      "Strike Last\n",
      "AB1\n",
      "Immune to Psychology\n",
      "Armor save roll 1: No save possible! (Save of 7+ required)\n",
      "Total saves: 0\n",
      "Final wounds after saves: 1\n",
      "Grimgor has 1 wounds remaining!\n",
      "Grimgor has 1 wounds remaining!\n",
      "\n",
      "Grimgor attacks with 3 attacks!\n",
      "Hit roll: 6 vs target 4 - Hit!\n",
      "Hit roll: 2 vs target 4 - Miss!\n",
      "Hit roll: 2 vs target 4 - Miss!\n",
      "Total hits: 1\n",
      "Wound roll: 5 vs target 2 - Wounded!\n",
      "Total wounds: 1\n",
      "Strike Last\n",
      "AB1\n",
      "Immune to Psychology\n",
      "Armor save roll 1: 5 vs target 6+ - Failed!\n",
      "Total saves: 0\n",
      "Final wounds after saves: 1\n",
      "Altir has 1 wounds remaining!\n",
      "The defender strikes back!\n",
      "Altir's Great Weapon grants +2 Strength\n",
      "Altir's Great Weapon has -2 Armor Piercing\n",
      "Altir strikes last with Great Weapon!\n",
      "Grimgor's Great Weapon grants +2 Strength\n",
      "Grimgor's Great Weapon has -2 Armor Piercing\n",
      "Grimgor strikes last with Great Weapon!\n",
      "\n",
      "The combat begins!\n",
      "Round 2 of combat:\n",
      "\n",
      "Altir attacks with 2 attacks!\n",
      "Hit roll: 5 vs target 4 - Hit!\n",
      "Hit roll: 2 vs target 4 - Miss!\n",
      "Total hits: 1\n",
      "Wound roll : 1 vs target 2 - Failed to wound!\n",
      "Total wounds: 0\n",
      "Altir failed to wound with any hits!\n",
      "Grimgor has 1 wounds remaining!\n",
      "\n",
      "Grimgor attacks with 3 attacks!\n",
      "Hit roll: 4 vs target 4 - Hit!\n",
      "Hit roll: 6 vs target 4 - Hit!\n",
      "Hit roll: 5 vs target 4 - Hit!\n",
      "Total hits: 3\n",
      "Wound roll: 3 vs target 2 - Wounded!\n",
      "Wound roll: 6 vs target 2 - Wounded!\n",
      "Wound roll: 5 vs target 2 - Wounded!\n",
      "Total wounds: 3\n",
      "Strike Last\n",
      "AB1\n",
      "Immune to Psychology\n",
      "Immune to Psychology\n",
      "Armor save roll 1: 3 vs target 6+ - Failed!\n",
      "Armor save roll 2: No save possible! (Save of 7+ required)\n",
      "Armor save roll 3: 3 vs target 6+ - Failed!\n",
      "Total saves: 0\n",
      "Final wounds after saves: 3\n",
      "Altir has -2 wounds remaining!\n",
      "Altir has been defeated, their blood coats the battlefield!\n",
      "Grimgor stands victorious!\n"
     ]
    }
   ],
   "source": [
    "# Create a High Elf Noble\n",
    "elf_noble = Character(\n",
    "    name=\"Altir\",\n",
    "    faction_type=\"High Elves\",\n",
    "    profile_name=\"Noble\",\n",
    "    Armor=\"Heavy Armor\",\n",
    "    Shield=True,\n",
    "    Weapon=\"Great Weapon\"\n",
    ")\n",
    "\n",
    "# Create an Orc Boss\n",
    "orc_boss = Character(\n",
    "    name=\"Grimgor\",\n",
    "    faction_type=\"Orcs\",\n",
    "    profile_name=\"Black Orc Boss\",\n",
    "    Weapon=\"Great Weapon\"  # Black Orcs love their big weapons!\n",
    ")\n",
    "\n",
    "# Run a combat simulation between them\n",
    "combat_simulation(elf_noble, orc_boss, rounds=4, verbose=True)"
   ]
  }
 ],
 "metadata": {
  "kernelspec": {
   "display_name": "towsim",
   "language": "python",
   "name": "python3"
  },
  "language_info": {
   "codemirror_mode": {
    "name": "ipython",
    "version": 3
   },
   "file_extension": ".py",
   "mimetype": "text/x-python",
   "name": "python",
   "nbconvert_exporter": "python",
   "pygments_lexer": "ipython3",
   "version": "3.13.7"
  }
 },
 "nbformat": 4,
 "nbformat_minor": 5
}
