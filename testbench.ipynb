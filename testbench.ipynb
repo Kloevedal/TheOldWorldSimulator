{
 "cells": [
  {
   "cell_type": "code",
   "execution_count": 1,
   "id": "91e2b1ea",
   "metadata": {},
   "outputs": [],
   "source": [
    "from combat_simulations import *  # Character is now imported via character_model.py"
   ]
  },
  {
   "cell_type": "code",
   "execution_count": 3,
   "id": "8279f8d1",
   "metadata": {},
   "outputs": [
    {
     "name": "stdout",
     "output_type": "stream",
     "text": [
      "Round 1\n",
      "Altir strikes at Grimgor!\n",
      "Hit roll: 1 vs target 3 - Miss!\n",
      "Hit roll: 1 vs target 3 - Miss!\n",
      "Hit roll: 6 vs target 3 - Hit!\n",
      "Wound roll: 5 vs target 4 - Wounded!\n",
      "Armor save roll 1: 4 vs target 5+ - Failed!\n",
      "Grimgor suffers 1 wound(s). Remaining Wounds: 1\n",
      "Grimgor strikes at Altir!\n",
      "Hit roll: 3 vs target 4 - Miss!\n",
      "Hit roll: 3 vs target 4 - Miss!\n",
      "Hit roll: 1 vs target 4 - Miss!\n",
      "Round 2\n",
      "Altir strikes at Grimgor!\n",
      "Hit roll: 1 vs target 3 - Miss!\n",
      "Hit roll: 1 vs target 3 - Miss!\n",
      "Hit roll: 5 vs target 3 - Hit!\n",
      "Wound roll : 3 vs target 4 - Failed to wound!\n",
      "Grimgor strikes at Altir!\n",
      "Hit roll: 2 vs target 4 - Miss!\n",
      "Hit roll: 6 vs target 4 - Hit!\n",
      "Hit roll: 2 vs target 4 - Miss!\n",
      "Wound roll: 2 vs target 2 - Wounded!\n",
      "Armor save roll 1: 2 vs target 6+ - Failed!\n",
      "Altir suffers 1 wound(s). Remaining Wounds: 1\n",
      "Round 3\n",
      "Altir strikes at Grimgor!\n",
      "Hit roll: 3 vs target 3 - Hit!\n",
      "Hit roll: 3 vs target 3 - Hit!\n",
      "Hit roll: 6 vs target 3 - Hit!\n",
      "Wound roll : 3 vs target 4 - Failed to wound!\n",
      "Wound roll: 4 vs target 4 - Wounded!\n",
      "Wound roll: 6 vs target 4 - Wounded!\n",
      "Armor save roll 1: 5 vs target 5+ - Saved!\n",
      "Armor save roll 2: 5 vs target 5+ - Saved!\n",
      "Grimgor strikes at Altir!\n",
      "Hit roll: 3 vs target 4 - Miss!\n",
      "Hit roll: 1 vs target 4 - Miss!\n",
      "Hit roll: 1 vs target 4 - Miss!\n",
      "Round 4\n",
      "Altir strikes at Grimgor!\n",
      "Hit roll: 5 vs target 3 - Hit!\n",
      "Hit roll: 2 vs target 3 - Miss!\n",
      "Hit roll: 4 vs target 3 - Hit!\n",
      "Wound roll: 6 vs target 4 - Wounded!\n",
      "Wound roll : 1 vs target 4 - Failed to wound!\n",
      "Armor save roll 1: 4 vs target 5+ - Failed!\n",
      "Grimgor suffers 1 wound(s). Remaining Wounds: 0\n",
      "Altir stands victorious, the blood of Grimgor stains the field of battle\n"
     ]
    },
    {
     "data": {
      "text/plain": [
       "<character_model.Character at 0x113f25950>"
      ]
     },
     "execution_count": 3,
     "metadata": {},
     "output_type": "execute_result"
    }
   ],
   "source": [
    "# Create a High Elf Noble\n",
    "elf_noble = Character(\n",
    "    name=\"Altir\",\n",
    "    faction_type=\"High Elves\",\n",
    "    profile_name=\"Noble\",\n",
    "    Armor=\"Heavy Armor\",\n",
    "    Shield=False,\n",
    "    Weapon=\"Hand Weapon\"\n",
    ")\n",
    "\n",
    "# Create an Orc Boss\n",
    "orc_boss = Character(\n",
    "    name=\"Grimgor\",\n",
    "    faction_type=\"Orcs\",\n",
    "    profile_name=\"Black Orc Boss\",\n",
    "    Weapon=\"Great Weapon\"  # Black Orcs love their big weapons!\n",
    ")\n",
    "\n",
    "# Run a combat simulation between them\n",
    "combat_simulation(elf_noble, orc_boss, rounds=4, verbose=True)"
   ]
  },
  {
   "cell_type": "code",
   "execution_count": null,
   "id": "132d956d",
   "metadata": {},
   "outputs": [],
   "source": []
  }
 ],
 "metadata": {
  "kernelspec": {
   "display_name": "towsim",
   "language": "python",
   "name": "python3"
  },
  "language_info": {
   "codemirror_mode": {
    "name": "ipython",
    "version": 3
   },
   "file_extension": ".py",
   "mimetype": "text/x-python",
   "name": "python",
   "nbconvert_exporter": "python",
   "pygments_lexer": "ipython3",
   "version": "3.13.7"
  }
 },
 "nbformat": 4,
 "nbformat_minor": 5
}
